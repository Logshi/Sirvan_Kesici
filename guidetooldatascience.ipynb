{
  "nbformat": 4,
  "nbformat_minor": 0,
  "metadata": {
    "colab": {
      "provenance": []
    },
    "kernelspec": {
      "name": "python3",
      "display_name": "Python 3"
    },
    "language_info": {
      "name": "python"
    }
  },
  "cells": [
    {
      "cell_type": "markdown",
      "source": [
        "## **Introduction**"
      ],
      "metadata": {
        "id": "R68J7ylcWK-b"
      }
    },
    {
      "cell_type": "markdown",
      "source": [
        "###Welcome to this notebook! In this notebook, we will explore various aspects of data science, including languages, libraries, tools, and coding examples. Let's dive in!"
      ],
      "metadata": {
        "id": "92ju7fwjWWFF"
      }
    },
    {
      "cell_type": "markdown",
      "source": [
        "## **Data Science Languages**"
      ],
      "metadata": {
        "id": "jcISRnqfWWCl"
      }
    },
    {
      "cell_type": "markdown",
      "source": [
        "* Python\n",
        "* R\n",
        "* Julia\n",
        "* SQL\n",
        "* Scala"
      ],
      "metadata": {
        "id": "pALVep9uWV_t"
      }
    },
    {
      "cell_type": "markdown",
      "source": [
        "## **Data Science Libraries**"
      ],
      "metadata": {
        "id": "6Obe-rymWV8-"
      }
    },
    {
      "cell_type": "markdown",
      "source": [
        "* NumPy\n",
        "* Pandas\n",
        "* Matplotlib\n",
        "* Seaborn\n",
        "* Scikit-learn"
      ],
      "metadata": {
        "id": "lP7-AZhaWV6I"
      }
    },
    {
      "cell_type": "markdown",
      "source": [
        "## **Data Science Tools**"
      ],
      "metadata": {
        "id": "gbSKUS4jWV3N"
      }
    },
    {
      "cell_type": "markdown",
      "source": [
        "| Tool           | Description                             |\n",
        "|----------------|-----------------------------------------|\n",
        "| Jupyter Notebook | Interactive coding environment for data science |\n",
        "| TensorFlow     | Deep learning framework                  |\n",
        "| PyTorch        | Deep learning framework                  |\n",
        "| Tableau        | Data visualization tool                  |\n",
        "| Apache Spark   | Distributed data processing framework    |\n"
      ],
      "metadata": {
        "id": "WPTI9neUWV0W"
      }
    },
    {
      "cell_type": "markdown",
      "source": [
        "## **Arithmetic Expression Examples**"
      ],
      "metadata": {
        "id": "fAVs3sxTYH6H"
      }
    },
    {
      "cell_type": "markdown",
      "source": [
        "## Arithmetic Expression Examples\n",
        "\n",
        "In the following examples, we will explore some basic arithmetic operations using numbers:\n",
        "\n",
        "1. Addition: `2 + 3`\n",
        "2. Subtraction: `5 - 1`\n",
        "3. Multiplication: `4 * 6`\n",
        "4. Division: `10 / 2`\n",
        "5. Exponentiation: `2 ** 4`\n",
        "6. Modulo: `10 % 3`\n",
        "\n",
        "\n"
      ],
      "metadata": {
        "id": "UhfBGYAjYIml"
      }
    },
    {
      "cell_type": "markdown",
      "source": [
        "# Multiplication\n",
        "\n",
        "\n",
        "\n"
      ],
      "metadata": {
        "id": "W7zQ1KDyYIjm"
      }
    },
    {
      "cell_type": "code",
      "source": [
        "a = 5\n",
        "b = 3\n",
        "result_mul = a * b\n",
        "print(\"Multiplication result:\", result_mul)"
      ],
      "metadata": {
        "colab": {
          "base_uri": "https://localhost:8080/"
        },
        "id": "wtqe-hZRYIgu",
        "outputId": "811f0a89-e917-48ee-ca2e-34e801d67c78"
      },
      "execution_count": 1,
      "outputs": [
        {
          "output_type": "stream",
          "name": "stdout",
          "text": [
            "Multiplication result: 15\n"
          ]
        }
      ]
    },
    {
      "cell_type": "markdown",
      "source": [
        "# Addition"
      ],
      "metadata": {
        "id": "vh7hgtN5YIdu"
      }
    },
    {
      "cell_type": "code",
      "source": [
        "x = 10\n",
        "y = 7\n",
        "result_add = x + y\n",
        "print(\"Addition result:\", result_add)"
      ],
      "metadata": {
        "colab": {
          "base_uri": "https://localhost:8080/"
        },
        "id": "aNFsRzqjYzZI",
        "outputId": "b86d4a26-c03b-471b-ff07-d91d043f6503"
      },
      "execution_count": 2,
      "outputs": [
        {
          "output_type": "stream",
          "name": "stdout",
          "text": [
            "Addition result: 17\n"
          ]
        }
      ]
    },
    {
      "cell_type": "markdown",
      "source": [
        "# Convert minutes to hours"
      ],
      "metadata": {
        "id": "ZsrPnoZoY1ZS"
      }
    },
    {
      "cell_type": "code",
      "source": [
        "minutes = 150\n",
        "hours = minutes / 60\n",
        "print(\"Minutes:\", minutes)\n",
        "print(\"Hours:\", hours)"
      ],
      "metadata": {
        "colab": {
          "base_uri": "https://localhost:8080/"
        },
        "id": "JzeYODuhY9ch",
        "outputId": "1f82555f-3d99-4c37-d2b5-60811fe0f443"
      },
      "execution_count": 3,
      "outputs": [
        {
          "output_type": "stream",
          "name": "stdout",
          "text": [
            "Minutes: 150\n",
            "Hours: 2.5\n"
          ]
        }
      ]
    },
    {
      "cell_type": "markdown",
      "source": [
        "## Objectives\n",
        "\n",
        "The main objectives of this notebook are:\n",
        "\n",
        "1. Explore different data science languages.\n",
        "2. Understand popular data science libraries.\n",
        "3. Familiarize with essential data science tools.\n",
        "4. Perform basic arithmetic operations using numbers.\n",
        "5. Convert minutes to hours using a simple formula.\n",
        "\n",
        "\n"
      ],
      "metadata": {
        "id": "i_mdHKW0Y9Z5"
      }
    },
    {
      "cell_type": "markdown",
      "source": [
        "Author: Sirvan Kesici\n"
      ],
      "metadata": {
        "id": "PNAydQveY9W-"
      }
    },
    {
      "cell_type": "code",
      "source": [],
      "metadata": {
        "id": "HDWzKs33Y9UQ"
      },
      "execution_count": null,
      "outputs": []
    },
    {
      "cell_type": "code",
      "source": [],
      "metadata": {
        "id": "Kzept_eaY9Ri"
      },
      "execution_count": null,
      "outputs": []
    },
    {
      "cell_type": "code",
      "source": [],
      "metadata": {
        "id": "j6TS_YU5Y9Om"
      },
      "execution_count": null,
      "outputs": []
    }
  ]
}